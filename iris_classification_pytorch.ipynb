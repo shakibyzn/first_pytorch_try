{
  "nbformat": 4,
  "nbformat_minor": 0,
  "metadata": {
    "colab": {
      "name": "iris-classification-pytorch.ipynb",
      "provenance": [],
      "collapsed_sections": []
    },
    "kernelspec": {
      "name": "python3",
      "display_name": "Python 3"
    },
    "accelerator": "GPU"
  },
  "cells": [
    {
      "cell_type": "markdown",
      "metadata": {
        "id": "J_9uegneoCCX",
        "colab_type": "text"
      },
      "source": [
        "### Importing Libraries"
      ]
    },
    {
      "cell_type": "code",
      "metadata": {
        "id": "YrjQYpYoatre",
        "colab_type": "code",
        "colab": {}
      },
      "source": [
        "import torch\n",
        "import matplotlib.pyplot as plt\n",
        "import torch.nn as nn\n",
        "from torch.nn import functional as f\n",
        "import pandas as pd\n",
        "import numpy as np\n",
        "from sklearn.model_selection import train_test_split\n",
        "\n",
        "# plt.style.use('dark_background')\n",
        "plt.style.use('ggplot')"
      ],
      "execution_count": 0,
      "outputs": []
    },
    {
      "cell_type": "code",
      "metadata": {
        "id": "e9eG8jRsZkqh",
        "colab_type": "code",
        "colab": {}
      },
      "source": [
        "!cp drive/My\\ Drive/torch/iris.csv ."
      ],
      "execution_count": 0,
      "outputs": []
    },
    {
      "cell_type": "markdown",
      "metadata": {
        "id": "uakeSEfwNc3g",
        "colab_type": "text"
      },
      "source": [
        "### Reading the dataset"
      ]
    },
    {
      "cell_type": "code",
      "metadata": {
        "id": "QWLjWHp9a8pl",
        "colab_type": "code",
        "outputId": "27e853bc-b872-49f3-ebf8-f9a74f024272",
        "colab": {
          "base_uri": "https://localhost:8080/",
          "height": 143
        }
      },
      "source": [
        "df = pd.read_csv(\"iris.csv\")\n",
        "df.head(3)"
      ],
      "execution_count": 83,
      "outputs": [
        {
          "output_type": "execute_result",
          "data": {
            "text/html": [
              "<div>\n",
              "<style scoped>\n",
              "    .dataframe tbody tr th:only-of-type {\n",
              "        vertical-align: middle;\n",
              "    }\n",
              "\n",
              "    .dataframe tbody tr th {\n",
              "        vertical-align: top;\n",
              "    }\n",
              "\n",
              "    .dataframe thead th {\n",
              "        text-align: right;\n",
              "    }\n",
              "</style>\n",
              "<table border=\"1\" class=\"dataframe\">\n",
              "  <thead>\n",
              "    <tr style=\"text-align: right;\">\n",
              "      <th></th>\n",
              "      <th>sepal length (cm)</th>\n",
              "      <th>sepal width (cm)</th>\n",
              "      <th>petal length (cm)</th>\n",
              "      <th>petal width (cm)</th>\n",
              "      <th>target</th>\n",
              "    </tr>\n",
              "  </thead>\n",
              "  <tbody>\n",
              "    <tr>\n",
              "      <th>0</th>\n",
              "      <td>5.1</td>\n",
              "      <td>3.5</td>\n",
              "      <td>1.4</td>\n",
              "      <td>0.2</td>\n",
              "      <td>0.0</td>\n",
              "    </tr>\n",
              "    <tr>\n",
              "      <th>1</th>\n",
              "      <td>4.9</td>\n",
              "      <td>3.0</td>\n",
              "      <td>1.4</td>\n",
              "      <td>0.2</td>\n",
              "      <td>0.0</td>\n",
              "    </tr>\n",
              "    <tr>\n",
              "      <th>2</th>\n",
              "      <td>4.7</td>\n",
              "      <td>3.2</td>\n",
              "      <td>1.3</td>\n",
              "      <td>0.2</td>\n",
              "      <td>0.0</td>\n",
              "    </tr>\n",
              "  </tbody>\n",
              "</table>\n",
              "</div>"
            ],
            "text/plain": [
              "   sepal length (cm)  sepal width (cm)  ...  petal width (cm)  target\n",
              "0                5.1               3.5  ...               0.2     0.0\n",
              "1                4.9               3.0  ...               0.2     0.0\n",
              "2                4.7               3.2  ...               0.2     0.0\n",
              "\n",
              "[3 rows x 5 columns]"
            ]
          },
          "metadata": {
            "tags": []
          },
          "execution_count": 83
        }
      ]
    },
    {
      "cell_type": "markdown",
      "metadata": {
        "id": "v14UHwpNVe_I",
        "colab_type": "text"
      },
      "source": [
        "### Visualization"
      ]
    },
    {
      "cell_type": "code",
      "metadata": {
        "id": "2IAL7euYNv8p",
        "colab_type": "code",
        "colab": {
          "base_uri": "https://localhost:8080/",
          "height": 315
        },
        "outputId": "6eaf0599-0bd1-45ed-a001-0b8fe2bc993a"
      },
      "source": [
        "import seaborn as sns\n",
        "d = {'color': ['r', 'b', 'g']}\n",
        "\n",
        "sns.FacetGrid(df, hue=\"target\", height=4, hue_kws=d) \\\n",
        "   .map(plt.scatter, \"sepal length (cm)\", \"petal width (cm)\") \\\n",
        "   .add_legend()"
      ],
      "execution_count": 84,
      "outputs": [
        {
          "output_type": "execute_result",
          "data": {
            "text/plain": [
              "<seaborn.axisgrid.FacetGrid at 0x7f9b86714d68>"
            ]
          },
          "metadata": {
            "tags": []
          },
          "execution_count": 84
        },
        {
          "output_type": "display_data",
          "data": {
            "image/png": "[encoded data removed]",
            "text/plain": [
              "<Figure size 339.875x288 with 1 Axes>"
            ]
          },
          "metadata": {
            "tags": []
          }
        }
      ]
    },
    {
      "cell_type": "code",
      "metadata": {
        "id": "HOH5EGjzZrXH",
        "colab_type": "code",
        "colab": {}
      },
      "source": [
        "features = df.drop(['target'],axis=1).values\n",
        "label = df[\"target\"].values\n",
        "x_train, x_test, y_train, y_test = train_test_split(features, label, test_size=0.2)"
      ],
      "execution_count": 0,
      "outputs": []
    },
    {
      "cell_type": "code",
      "metadata": {
        "id": "K2SBMLDxfZCT",
        "colab_type": "code",
        "colab": {}
      },
      "source": [
        "x_train = torch.FloatTensor(x_train)\n",
        "x_test = torch.FloatTensor(x_test)\n",
        "y_train = torch.LongTensor(y_train)\n",
        "y_test = torch.LongTensor(y_test)"
      ],
      "execution_count": 0,
      "outputs": []
    },
    {
      "cell_type": "markdown",
      "metadata": {
        "id": "6ntVn3IGgwCQ",
        "colab_type": "text"
      },
      "source": [
        "### Class Model"
      ]
    },
    {
      "cell_type": "code",
      "metadata": {
        "id": "W9ZGGxKFgx72",
        "colab_type": "code",
        "colab": {}
      },
      "source": [
        "class Model(nn.Module):\n",
        "\n",
        "  def __init__(self, in_features=4, h1=8, h2=9, out_features=3):\n",
        "    super().__init__()\n",
        "    self.fc1 = nn.Linear(in_features,h1)\n",
        "    self.fc2 = nn.Linear(h1, h2)\n",
        "    self.out = nn.Linear(h2, out_features)\n",
        "\n",
        "  def forward(self, x):\n",
        "    x = f.relu(self.fc1(x))\n",
        "    x = f.relu(self.fc2(x))\n",
        "    x = self.out(x)\n",
        "    return x"
      ],
      "execution_count": 0,
      "outputs": []
    },
    {
      "cell_type": "code",
      "metadata": {
        "id": "-gShHw74iB24",
        "colab_type": "code",
        "colab": {}
      },
      "source": [
        "model = Model()\n",
        "criterion = nn.CrossEntropyLoss()\n",
        "optimizer = torch.optim.Adam(model.parameters(), lr= 0.001)"
      ],
      "execution_count": 0,
      "outputs": []
    },
    {
      "cell_type": "markdown",
      "metadata": {
        "id": "seb3JZa5oMi4",
        "colab_type": "text"
      },
      "source": [
        "### Train our Model"
      ]
    },
    {
      "cell_type": "code",
      "metadata": {
        "id": "_UKJRD2nill3",
        "colab_type": "code",
        "outputId": "1835886d-014e-4eb1-9900-ae7b24ee0008",
        "colab": {
          "base_uri": "https://localhost:8080/",
          "height": 1000
        }
      },
      "source": [
        "model.train()\n",
        "epochs = 1000\n",
        "losses = []\n",
        "losses_val = []\n",
        "\n",
        "for i in range(epochs):\n",
        "\n",
        "  y_pred = model.forward(x_train)\n",
        "\n",
        "  # y_train = y_train.squeeze_()\n",
        "  loss = criterion(y_pred, y_train)\n",
        "  losses.append(loss)\n",
        "\n",
        "  if i%10 ==0:\n",
        "    print(f'Epoch {i} and loss is: {loss}')\n",
        "  \n",
        "  ### Back Prop\n",
        "  optimizer.zero_grad()\n",
        "  loss.backward()\n",
        "  optimizer.step()\n",
        "\n",
        "  with torch.no_grad():\n",
        "    y_eval = model.forward(x_test)\n",
        "    loss = criterion(y_eval, y_test)\n",
        "    losses_val.append(loss)\n",
        "    "
      ],
      "execution_count": 89,
      "outputs": [
        {
          "output_type": "stream",
          "text": [
            "Epoch 0 and loss is: 1.1376785039901733\n",
            "Epoch 10 and loss is: 1.1144554615020752\n",
            "Epoch 20 and loss is: 1.100610613822937\n",
            "Epoch 30 and loss is: 1.0910670757293701\n",
            "Epoch 40 and loss is: 1.0819634199142456\n",
            "Epoch 50 and loss is: 1.0712426900863647\n",
            "Epoch 60 and loss is: 1.057342767715454\n",
            "Epoch 70 and loss is: 1.0389821529388428\n",
            "Epoch 80 and loss is: 1.0147866010665894\n",
            "Epoch 90 and loss is: 0.9848814606666565\n",
            "Epoch 100 and loss is: 0.9492081999778748\n",
            "Epoch 110 and loss is: 0.9078032970428467\n",
            "Epoch 120 and loss is: 0.8608844876289368\n",
            "Epoch 130 and loss is: 0.8095821738243103\n",
            "Epoch 140 and loss is: 0.7559033632278442\n",
            "Epoch 150 and loss is: 0.702052652835846\n",
            "Epoch 160 and loss is: 0.6441313624382019\n",
            "Epoch 170 and loss is: 0.5881006717681885\n",
            "Epoch 180 and loss is: 0.5417505502700806\n",
            "Epoch 190 and loss is: 0.5040922164916992\n",
            "Epoch 200 and loss is: 0.4737725555896759\n",
            "Epoch 210 and loss is: 0.4491458535194397\n",
            "Epoch 220 and loss is: 0.4272126853466034\n",
            "Epoch 230 and loss is: 0.4073456823825836\n",
            "Epoch 240 and loss is: 0.38887903094291687\n",
            "Epoch 250 and loss is: 0.3713628947734833\n",
            "Epoch 260 and loss is: 0.3545909821987152\n",
            "Epoch 270 and loss is: 0.3383950889110565\n",
            "Epoch 280 and loss is: 0.3225616216659546\n",
            "Epoch 290 and loss is: 0.3070511221885681\n",
            "Epoch 300 and loss is: 0.2918771505355835\n",
            "Epoch 310 and loss is: 0.27707812190055847\n",
            "Epoch 320 and loss is: 0.2627324163913727\n",
            "Epoch 330 and loss is: 0.24892647564411163\n",
            "Epoch 340 and loss is: 0.23573845624923706\n",
            "Epoch 350 and loss is: 0.22322672605514526\n",
            "Epoch 360 and loss is: 0.21144409477710724\n",
            "Epoch 370 and loss is: 0.2004169076681137\n",
            "Epoch 380 and loss is: 0.19015569984912872\n",
            "Epoch 390 and loss is: 0.18064793944358826\n",
            "Epoch 400 and loss is: 0.17187389731407166\n",
            "Epoch 410 and loss is: 0.1638014167547226\n",
            "Epoch 420 and loss is: 0.1563819795846939\n",
            "Epoch 430 and loss is: 0.14958792924880981\n",
            "Epoch 440 and loss is: 0.14336924254894257\n",
            "Epoch 450 and loss is: 0.1376798003911972\n",
            "Epoch 460 and loss is: 0.1324693113565445\n",
            "Epoch 470 and loss is: 0.12769480049610138\n",
            "Epoch 480 and loss is: 0.12331320345401764\n",
            "Epoch 490 and loss is: 0.11928549408912659\n",
            "Epoch 500 and loss is: 0.1155763491988182\n",
            "Epoch 510 and loss is: 0.1121591255068779\n",
            "Epoch 520 and loss is: 0.10900751501321793\n",
            "Epoch 530 and loss is: 0.1061050072312355\n",
            "Epoch 540 and loss is: 0.1034196987748146\n",
            "Epoch 550 and loss is: 0.10093174129724503\n",
            "Epoch 560 and loss is: 0.09862306714057922\n",
            "Epoch 570 and loss is: 0.0964759960770607\n",
            "Epoch 580 and loss is: 0.09447586536407471\n",
            "Epoch 590 and loss is: 0.09260933846235275\n",
            "Epoch 600 and loss is: 0.09086345881223679\n",
            "Epoch 610 and loss is: 0.08922743797302246\n",
            "Epoch 620 and loss is: 0.08769120275974274\n",
            "Epoch 630 and loss is: 0.0862463191151619\n",
            "Epoch 640 and loss is: 0.08488670736551285\n",
            "Epoch 650 and loss is: 0.08360569179058075\n",
            "Epoch 660 and loss is: 0.08239663392305374\n",
            "Epoch 670 and loss is: 0.08125386387109756\n",
            "Epoch 680 and loss is: 0.08017294853925705\n",
            "Epoch 690 and loss is: 0.07914899289608002\n",
            "Epoch 700 and loss is: 0.07817795872688293\n",
            "Epoch 710 and loss is: 0.07725608348846436\n",
            "Epoch 720 and loss is: 0.07638001441955566\n",
            "Epoch 730 and loss is: 0.07554648816585541\n",
            "Epoch 740 and loss is: 0.07475251704454422\n",
            "Epoch 750 and loss is: 0.07399547100067139\n",
            "Epoch 760 and loss is: 0.07327282428741455\n",
            "Epoch 770 and loss is: 0.07258253544569016\n",
            "Epoch 780 and loss is: 0.07192255556583405\n",
            "Epoch 790 and loss is: 0.07129136472940445\n",
            "Epoch 800 and loss is: 0.070687435567379\n",
            "Epoch 810 and loss is: 0.07010973989963531\n",
            "Epoch 820 and loss is: 0.0695563554763794\n",
            "Epoch 830 and loss is: 0.06902601569890976\n",
            "Epoch 840 and loss is: 0.06851751357316971\n",
            "Epoch 850 and loss is: 0.06802957504987717\n",
            "Epoch 860 and loss is: 0.06756112724542618\n",
            "Epoch 870 and loss is: 0.06711100041866302\n",
            "Epoch 880 and loss is: 0.06667827069759369\n",
            "Epoch 890 and loss is: 0.06626196205615997\n",
            "Epoch 900 and loss is: 0.06586126983165741\n",
            "Epoch 910 and loss is: 0.06547539681196213\n",
            "Epoch 920 and loss is: 0.0651036873459816\n",
            "Epoch 930 and loss is: 0.06474566459655762\n",
            "Epoch 940 and loss is: 0.06440030783414841\n",
            "Epoch 950 and loss is: 0.0640670508146286\n",
            "Epoch 960 and loss is: 0.06374511122703552\n",
            "Epoch 970 and loss is: 0.06343396008014679\n",
            "Epoch 980 and loss is: 0.06313309818506241\n",
            "Epoch 990 and loss is: 0.06284207105636597\n"
          ],
          "name": "stdout"
        }
      ]
    },
    {
      "cell_type": "markdown",
      "metadata": {
        "id": "IMhJ3oXAoPIQ",
        "colab_type": "text"
      },
      "source": [
        "### Plot our loss"
      ]
    },
    {
      "cell_type": "code",
      "metadata": {
        "id": "SzYylcSMlzL-",
        "colab_type": "code",
        "outputId": "ad2dba9f-6c85-422f-dd08-82fe413994d6",
        "colab": {
          "base_uri": "https://localhost:8080/",
          "height": 282
        }
      },
      "source": [
        "plt.plot(range(epochs), losses, label='Train')\n",
        "plt.plot(range(epochs), losses_val, label='Validation')\n",
        "plt.ylabel(\"Loss\")\n",
        "plt.xlabel(\"Epoch\")\n",
        "plt.legend()\n",
        "plt.show()"
      ],
      "execution_count": 90,
      "outputs": [
        {
          "output_type": "display_data",
          "data": {
            "image/png": "[encoded data removed]",
            "text/plain": [
              "<Figure size 432x288 with 1 Axes>"
            ]
          },
          "metadata": {
            "tags": []
          }
        }
      ]
    },
    {
      "cell_type": "code",
      "metadata": {
        "id": "lKVtSzeNmQbR",
        "colab_type": "code",
        "outputId": "7052f77a-af5d-407f-c712-8031d93af100",
        "colab": {
          "base_uri": "https://localhost:8080/",
          "height": 580
        }
      },
      "source": [
        "correct = 0\n",
        "\n",
        "with torch.no_grad():\n",
        "  for i, data in enumerate(x_test):\n",
        "\n",
        "    y_eval = model.forward(data)\n",
        "\n",
        "    print(f'{i+1}.) {str(y_eval)} {y_test[i]}')\n",
        "    if y_eval.argmax().item() == y_test[i]:\n",
        "      correct += 1\n",
        "\n",
        "print(f'We got {correct} correct!')"
      ],
      "execution_count": 91,
      "outputs": [
        {
          "output_type": "stream",
          "text": [
            "1.) tensor([-0.3491,  4.5847, -3.6870]) 1\n",
            "2.) tensor([-2.6135,  3.9771, -0.5875]) 1\n",
            "3.) tensor([ 10.3726,   2.5478, -14.2802]) 0\n",
            "4.) tensor([  8.7724,   2.4544, -12.3390]) 0\n",
            "5.) tensor([-0.2112,  4.5655, -3.8348]) 1\n",
            "6.) tensor([-3.5302,  0.6547,  3.2116]) 2\n",
            "7.) tensor([-2.1726,  4.5696, -1.5511]) 1\n",
            "8.) tensor([-2.0830,  5.1294, -2.1533]) 1\n",
            "9.) tensor([ 0.4845,  4.9622, -5.0012]) 1\n",
            "10.) tensor([-3.9992, -0.1457,  4.3593]) 2\n",
            "11.) tensor([ 11.6809,   2.5848, -15.8309]) 0\n",
            "12.) tensor([-4.1305, -0.7796,  5.1525]) 2\n",
            "13.) tensor([-2.6841,  2.7415,  0.5391]) 1\n",
            "14.) tensor([  9.6344,   2.4738, -13.3574]) 0\n",
            "15.) tensor([-3.7977,  0.6642,  3.4705]) 2\n",
            "16.) tensor([-2.8135,  3.6334, -0.0642]) 1\n",
            "17.) tensor([ 10.8968,   2.6220, -14.9480]) 0\n",
            "18.) tensor([  9.2784,   2.8378, -13.2867]) 0\n",
            "19.) tensor([  9.0624,   2.6709, -12.8775]) 0\n",
            "20.) tensor([ 11.9561,   2.6922, -16.2404]) 0\n",
            "21.) tensor([-2.4735,  5.3823, -1.9274]) 1\n",
            "22.) tensor([  9.6652,   2.6126, -13.5147]) 0\n",
            "23.) tensor([  9.4723,   2.4230, -13.1267]) 0\n",
            "24.) tensor([ 0.8396,  4.4344, -4.9191]) 1\n",
            "25.) tensor([-4.0290,  0.1855,  4.1786]) 2\n",
            "26.) tensor([-2.2142,  3.6510, -0.7070]) 1\n",
            "27.) tensor([-4.1216, -1.5497,  5.9542]) 2\n",
            "28.) tensor([-3.2160, -0.0088,  3.4440]) 2\n",
            "29.) tensor([  9.9860,   2.5394, -13.8215]) 0\n",
            "30.) tensor([ 10.8958,   2.5844, -14.9185]) 0\n",
            "We got 30 correct!\n"
          ],
          "name": "stdout"
        }
      ]
    },
    {
      "cell_type": "markdown",
      "metadata": {
        "id": "gki00wtWNW42",
        "colab_type": "text"
      },
      "source": [
        "### Saving Model"
      ]
    },
    {
      "cell_type": "code",
      "metadata": {
        "id": "nIfTwjaPnK4B",
        "colab_type": "code",
        "colab": {}
      },
      "source": [
        "torch.save(model, 'my_first_ANN_in_pytorch_iris.pt')"
      ],
      "execution_count": 0,
      "outputs": []
    }
  ]
}